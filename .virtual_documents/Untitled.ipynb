# Import the necessary library
import pandas as pd
import numpy as np
import matplotlib.pyplot as plt
import re
import seaborn as sns
import plotly.express as px


# load the data
df = pd.read_csv("cybersecurity_attacks.csv")



