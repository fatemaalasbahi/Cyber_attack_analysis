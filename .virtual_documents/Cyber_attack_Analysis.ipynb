


# Import the necessary library
import pandas as pd
import numpy as np
import matplotlib.pyplot as plt
import re
import seaborn as sns
import plotly.express as px


# load the data
df = pd.read_csv("cybersecurity_attacks.csv")





df.head().T


# Calculate the number of missing values for each feature
missing_values = df.isnull().sum()
missing_values








#Check for NaN values in 'Alerts/Warnings' column and replace it with 'No Alert Triggered'
df['Alerts/Warnings'] = df['Alerts/Warnings'].apply(lambda x: 'No Alert Triggered' if pd.isna(x) else x)


#Check for NaN values in 'Malware Indicators' column and replace it with 'No Detection'
df['Malware Indicators'] = df['Malware Indicators'].apply(lambda x: 'No Detection' if pd.isna(x) else x)


#Check for NaN values in 'Proxy Information' column and replace it with 'No proxy'
df['Proxy Information'] = df['Proxy Information'].apply(lambda x: 'No proxy' if pd.isna(x) else x)


#Check for NaN values in 'Firewall Logs' column and replace it with 'No Data'
df['Firewall Logs'] = df['Firewall Logs'].apply(lambda x: 'No Data' if pd.isna(x) else x)


#Check for NaN values in 'IDS/IPS Alerts' column and replace it with 'No Data'
df['IDS/IPS Alerts'] = df['IDS/IPS Alerts'].apply(lambda x: 'No Data' if pd.isna(x) else x)


df.isna().sum()





# used the value count function for understanding the distribution of devices used to access the system.
df['Device Information'].value_counts()


# Extract 'Device' and store it in 'Browser' column
df['Browser'] = df['Device Information'].str.split('/').str[0]


# Identify all the different device types found (from 'Browser' column)
df['Browser'].unique()





import re
# Identifing common operating systems and devices with regular expressions.
patterns = [
    r'Windows',
    r'Linux',
    r'Android',
    r'iPad',
    r'iPod',
    r'iPhone',
    r'Macintosh',
]

def extract_device_or_os(user_agent):
    for pattern in patterns:
        match = re.search(pattern, user_agent, re.I)  # re.I makes the search case-insensitive
        if match:
            return match.group()
    return 'Unknown' 


# Extract device or OS
df['Device/OS'] = df['Device Information'].apply(extract_device_or_os)


#Drop column
df = df.drop('Device Information', axis = 1)


df['Browser'].value_counts()


# Group by 'Device/OS' and count the number of attacks
device_counts = df['Device/OS'].value_counts()

# Convert the result to a DataFrame for better readability
device_counts_df = pd.DataFrame(device_counts).reset_index()
device_counts_df.columns = ['Device/OS', 'Count of Attacks']

# Display the top 10 devices/OS by number of attacks
top_devices = device_counts_df.head(10)
print(top_devices)


# Plotting the top devices/OS 
plt.figure(figsize=(10, 6))
sns.barplot(x='Count of Attacks', y='Device/OS', hue='Device/OS', data=top_devices, palette='magma')
plt.xlabel('Count of Attacks')
plt.ylabel('Device/OS')
plt.title('Attacks distribution based on device platform.')
plt.tight_layout()
plt.show()


import plotly.express as px

plt = px.pie(device_counts_df, names='Device/OS', values='Count of Attacks', title='Attacks distribution based on device platform.',
             color_discrete_sequence=px.colors.qualitative.Pastel1
             )
plt.show()





# Calculate attack counts
attack_counts = df['Attack Type'].value_counts().reset_index()
attack_counts.columns = ['Attack Type', 'Count']

# Display the count of the attacks and the attack type
attack_type = attack_counts.head()
print(attack_type)





# Attack counts calculation
attack_counts = df['Attack Type'].value_counts().reset_index()
attack_counts.columns = ['Attack Type', 'Count']

# Interactive bar chart
fig = px.bar(attack_counts, x='Attack Type', y='Count',
             labels={'Count': 'Number of Attacks'},
             title='Distribution of Attack Types',
             color='Attack Type',
             color_discrete_sequence=px.colors.qualitative.Antique)  
fig.show()


plt.figure(figsize=(10, 8))
sns.countplot(data=df, x='Attack Type', hue='Malware Indicators', palette='Blues') 

# Get bar objects (assuming you want to write above each bar)
bars = plt.gca().containers[0]  # Assuming first container holds bars

# Add numbers to each bar
for p in plt.gca().patches:
    plt.gca().annotate(f"{int(p.get_height())}",
                       (p.get_x() + p.get_width() / 2, p.get_height() / 2),
                       ha='center', va='center', color='black', fontsize=13)

# Loop through bars and add text annotations
for bar, count in zip(bars, df['Attack Type'].value_counts()):  # Use value counts for text content
    yval = bar.get_height()  # Get bar height
    plt.text(bar.get_x() + bar.get_width() / 2, yval + 5, str(count), ha='center', va='bottom', fontsize=12, fontweight='bold')

plt.xlabel('Attack Type')
plt.ylabel('Count')
plt.title('Attack Type Distribution with Malware Indicators')
plt.xticks(rotation=45)  # Rotate x-axis labels for readability if needed

plt.tight_layout()
plt.show()


# Create the grouped bar chart using seaborn
plt.figure(figsize=(10, 8))
sns.countplot(data=df, x='Attack Type', hue='Alerts/Warnings', palette='Purples')

# Get bar objects (assuming you want to write above each bar)
bars = plt.gca().containers[0]  # Assuming first container holds bars

# Loop through bars and add text annotations
for bar, count in zip(bars, df['Attack Type'].value_counts()):  # Use value counts for text content
    yval = bar.get_height()  # Get bar height
    plt.text(bar.get_x() + bar.get_width() / 2, yval + 5, str(count), ha='center', va='bottom', fontsize=12, fontweight='bold')
# Add numbers to each bar
for p in plt.gca().patches:
    plt.gca().annotate(f"{int(p.get_height())}",
                       (p.get_x() + p.get_width() / 2, p.get_height() / 2),
                       ha='center', va='center', color='black', fontsize=11)

plt.xlabel('Attack Type')
plt.ylabel('Count')
plt.title('Attack Type Distribution with Alerts/Warnings')
plt.xticks(rotation=45)

plt.show()


# Create the grouped bar chart using seaborn
plt.figure(figsize=(10, 8))
sns.countplot(data=df, x='Attack Type', hue='Attack Signature', palette='Reds')

# Get bar objects (assuming you want to write above each bar)
bars = plt.gca().containers[0]  # Assuming first container holds bars

# Loop through bars and add text annotations
for bar, count in zip(bars, df['Attack Type'].value_counts()): 
    yval = bar.get_height()  # Get bar height
    plt.text(bar.get_x() + bar.get_width() / 2, yval + 5, str(count), ha='center', va='bottom', fontsize=12, fontweight='bold')
# Add numbers to each bar
for p in plt.gca().patches:
    plt.gca().annotate(f"{int(p.get_height())}",
                       (p.get_x() + p.get_width() / 2, p.get_height() / 2),
                       ha='center', va='center', color='black', fontsize=11)

plt.xlabel('Attack Type')
plt.ylabel('Count')
plt.title('Attack Type Distribution with Attack Signature ')
plt.xticks(rotation=45)

plt.show()


# Create the grouped bar chart using seaborn
plt.figure(figsize=(10, 8))
sns.countplot(data=df, x='Attack Type', hue='Action Taken', palette='PuBuGn_r')

# Get bar objects (assuming you want to write above each bar)
bars = plt.gca().containers[0]  # Assuming first container holds bars

# Loop through bars and add text annotations
for bar, count in zip(bars, df['Attack Type'].value_counts()):  # Use value counts for text content
    yval = bar.get_height()  # Get bar height
    plt.text(bar.get_x() + bar.get_width() / 2, yval + 5, str(count), ha='center', va='bottom', fontsize=12, fontweight='bold')
# Add numbers to each bar
for p in plt.gca().patches:
    plt.gca().annotate(f"{int(p.get_height())}",
                       (p.get_x() + p.get_width() / 2, p.get_height() / 2),
                       ha='center', va='center', color='black', fontsize=11)

plt.xlabel('Attack Type')
plt.ylabel('Count')
plt.title('Attack Type Distribution with Action Taken')
plt.xticks(rotation=45)

plt.show()


# Create the grouped bar chart using seaborn
plt.figure(figsize=(10, 8))
sns.countplot(data=df, x='Attack Type', hue='Severity Level', palette='RdYlGn_r')

# Get bar objects (assuming you want to write above each bar)
bars = plt.gca().containers[0]  # Assuming first container holds bars

# Loop through bars and add text annotations
for bar, count in zip(bars, df['Attack Type'].value_counts()):  # Use value counts for text content
    yval = bar.get_height()  # Get bar height
    plt.text(bar.get_x() + bar.get_width() / 2, yval + 5, str(count), ha='center', va='bottom', fontsize=12, fontweight='bold')
# Add numbers to each bar
for p in plt.gca().patches:
    plt.gca().annotate(f"{int(p.get_height())}",
                       (p.get_x() + p.get_width() / 2, p.get_height() / 2),
                       ha='center', va='center', color='black', fontsize=11)

plt.xlabel('Attack Type')
plt.ylabel('Count')
plt.title('Attack Type Distribution with Severity Level')
plt.xticks(rotation=45)

plt.show()





df["Packet Length"].agg(["min","mean","median","max","std","skew"]).to_frame().T


# Convert the 'Timestamp' column to datetime format
df['Timestamp'] = pd.to_datetime(df['Timestamp'])


# Extract useful time-based features
df['Year'] = df['Timestamp'].dt.year
df['Month'] = df['Timestamp'].dt.month
df['Day'] = df['Timestamp'].dt.day
df['Hour'] = df['Timestamp'].dt.hour
df['DayOfWeek'] = df['Timestamp'].dt.day_name()


# Example: Aggregating the number of attacks per day
attacks_per_day = df.resample('D', on='Timestamp').size()
attacks_per_day


# Plot the number of attacks over time
plt.figure(figsize=(12, 6))
plt.plot(attacks_per_day, label='Number of Attacks')
plt.title('Number of Cyber Attacks Per Day')
plt.xlabel('Date')
plt.ylabel('Number of Attacks')
plt.legend()
plt.show()


# Analyzing attacks by hour of the day
attacks_per_hour = df['Hour'].value_counts().sort_index()
plt.figure(figsize=(12, 6))
sns.barplot(x=attacks_per_hour.index, y=attacks_per_hour.values)
plt.title('Number of Attacks by Hour of the Day')
plt.xlabel('Hour of the Day')
plt.ylabel('Number of Attacks')
plt.show()



# Plot 4: Heatmap of Attacks by Day of the Week and Hour
pivot_table = df.pivot_table(index='DayOfWeek', columns='Hour', values='Attack Type', aggfunc='count')
plt.figure(figsize=(14, 6))
sns.heatmap(pivot_table, cmap='coolwarm', annot=True, fmt='d')
plt.title('Heatmap of Attacks by Day of the Week and Hour')
plt.xlabel('Hour of the Day')
plt.ylabel('Day of the Week')
plt.yticks(ticks=[0, 1, 2, 3, 4, 5, 6], labels=['Mon', 'Tue', 'Wed', 'Thu', 'Fri', 'Sat', 'Sun'], rotation=0)
plt.show()


# Count the frequency of source and destination ports
source_port_counts = df['Source Port'].value_counts().head(10)
dest_port_counts = df['Destination Port'].value_counts().head(10)

# Plotting the top source and destination ports
plt.figure(figsize=(10, 5))
plt.subplot(1, 2, 1)
source_port_counts.plot(kind='bar', color='skyblue')
plt.title('Top 10 Source Ports')
plt.xlabel('Port')
plt.ylabel('Frequency')

plt.subplot(1, 2, 2)
dest_port_counts.plot(kind='bar', color='orange')
plt.title('Top 10 Destination Ports')
plt.xlabel('Port')
plt.ylabel('Frequency')

plt.tight_layout()
plt.show()



