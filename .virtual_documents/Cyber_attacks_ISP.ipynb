





# Import the necessary library
import pandas as pd
import numpy as np
import matplotlib.pyplot as plt
import re
import seaborn as sns
import plotly.express as px


# load the data
df = pd.read_csv("cybersecurity_attacks.csv")


df.head().T


df.info()


# Check if there is a null val
df.isna().sum()








#Check for NaN values in 'Alerts/Warnings' column and replace it with 'No Alert Triggered'
df['Alerts/Warnings'] = df['Alerts/Warnings'].apply(lambda x: 'No Alert Triggered' if pd.isna(x) else x)


#Check for NaN values in 'Malware Indicators' column and replace it with 'No Detection'
df['Malware Indicators'] = df['Malware Indicators'].apply(lambda x: 'No Detection' if pd.isna(x) else x)


#Check for NaN values in 'Proxy Information' column and replace it with 'No proxy'
df['Proxy Information'] = df['Proxy Information'].apply(lambda x: 'No proxy' if pd.isna(x) else x)


#Check for NaN values in 'Firewall Logs' column and replace it with 'No Data'
df['Firewall Logs'] = df['Firewall Logs'].apply(lambda x: 'No Data' if pd.isna(x) else x)


#Check for NaN values in 'IDS/IPS Alerts' column and replace it with 'No Data'
df['IDS/IPS Alerts'] = df['IDS/IPS Alerts'].apply(lambda x: 'No Data' if pd.isna(x) else x)





df.isna().sum()


# used the value count function for understanding the distribution of devices used to access the system.
df['Device Information'].value_counts()





# Extract 'Device' and store it in 'Browser' column
df['Browser'] = df['Device Information'].str.split('/').str[0]


# Identify all the different device types found (from 'Browser' column)
df['Browser'].unique()





import re
# List of regular expressions to identify common operating systems and devices
patterns = [
    r'Windows',
    r'Linux',
    r'Android',
    r'iPad',
    r'iPod',
    r'iPhone',
    r'Macintosh',
]

def extract_device_or_os(user_agent):
    for pattern in patterns:
        match = re.search(pattern, user_agent, re.I)  # re.I makes the search case-insensitive
        if match:
            return match.group()
    return 'Unknown'  


# Extract device or OS
df['Device/OS'] = df['Device Information'].apply(extract_device_or_os)


df = df.drop('Device Information', axis = 1)


df['Browser'].value_counts()


# Group by 'Device/OS' and count the number of attacks
device_counts = df['Device/OS'].value_counts()

# Convert the result to a DataFrame for better readability
device_counts_df = pd.DataFrame(device_counts).reset_index()
device_counts_df.columns = ['Device/OS', 'Count of Attacks']

# Display the top 10 devices/OS by number of attacks
top_devices = device_counts_df.head(10)
print(top_devices)


# Plotting the top devices/OS 
plt.figure(figsize=(10, 6))
sns.barplot(x='Count of Attacks', y='Device/OS', hue='Device/OS', data=top_devices, palette='magma')
plt.xlabel('Count of Attacks')
plt.ylabel('Device/OS')
plt.title('Top 10 Devices/OS Targeted by Attacks')
plt.tight_layout()
plt.show()


fig = px.bar(top_devices, x='Count of Attacks', y='Device/OS', color='Device/OS', title='Top 10 Devices/OS Targeted by Attacks', orientation='h')
fig.show()





import matplotlib.pyplot as plt

# Assuming 'top_devices' is a DataFrame with columns 'Device/OS' and 'Count of Attacks'

plt.figure(figsize=(8, 8))  # Adjust figure size for pie chart

# Sort data by attack count (descending) for better pie chart presentation
top_devices_sorted = top_devices.sort_values(by='Count of Attacks', ascending=False)

# Create the pie chart
plt.pie(top_devices_sorted['Count of Attacks'], labels=top_devices_sorted['Device/OS'], autopct="%1.1f%%")  # Display percentages with one decimal place
plt.title('Top 10 Devices/OS Targeted by Attacks (Percentage)')

# Add a legend
plt.legend(title='Device/OS')

plt.tight_layout()
plt.show()


import plotly.express as px

# Assuming you have a column 'count' in your DataFrame representing the count of each device/OS
plt = px.pie(device_counts_df, names='Device/OS', values='Count of Attacks', title='Platform Distribution',
             color_discrete_sequence=px.colors.qualitative.Pastel1
             )
plt.show()


# Calculate attack counts
attack_counts = df['Attack Type'].value_counts().reset_index()
attack_counts.columns = ['Attack Type', 'Count']

# Display the count of the attacks and the attack type
attack_type = attack_counts.head()
print(attack_type)






# Calculate attack counts
attack_counts = df['Attack Type'].value_counts().reset_index()
attack_counts.columns = ['Attack Type', 'Count']

# Create the interactive bar chart with a chosen color palette
fig = px.bar(attack_counts, x='Attack Type', y='Count',
             labels={'Count': 'Number of Attacks'},
             title='Distribution of Attack Types',
             color='Attack Type',
             color_discrete_sequence=px.colors.qualitative.Antique)  # Replace with your preferred palette
fig.show()


plt.figure(figsize=(10, 8))
sns.countplot(data=df, x = 'Attack Type', hue = 'Malware Indicators')
plt.show()





# Count the occurrences of each protocol
protocol_counts = df['Protocol'].value_counts().reset_index()
protocol_counts.columns = ['Protocol', 'Count']

# Display the count of the attacks and the attack type
protocol_type = protocol_counts.head()
print(protocol_type)





# Data for the pie chart
labels = ['UDP', 'ICMP', 'TCP']
sizes = df['Protocol'].value_counts()  # Proportional sizes of each category
explode = (0.1, 0, 0)  # Explode the 1st slice (UDP) for emphasis

# Set a custom color palette
colors = sns.color_palette('pastel')[0:len(labels)]

# Set seaborn style for a creative theme
sns.set(style="whitegrid")

# Create a pie chart
plt.figure(figsize=(8, 8))
plt.pie(sizes, labels=labels, colors=colors, explode=explode, autopct='%1.1f%%', startangle=90)

# Equal aspect ratio ensures that pie is drawn as a circle.
plt.axis('equal')
plt.title('Distribution of Network Traffic Protocols', fontsize=16, fontweight='bold')

# Display the pie chart
plt.show()


# Count the occurrences of each protocol
protocol_counts = df['Protocol'].value_counts().reset_index()
protocol_counts.columns = ['Protocol', 'Count']

# Create the interactive pie chart
fig = px.pie(protocol_counts, values='Count', names='Protocol', title='Distribution of Network Traffic Protocols',
             color_discrete_sequence=px.colors.qualitative.Pastel2)
fig.show()


#Correlation Between Attack Types and Protocols
plt.figure(figsize=(10,6))
sns.countplot(data=df, x='Protocol', hue='Packet Type')
plt.title('Distribution of Attack Types Across Protocols')
plt.show()





#Severity Levels and Destination Ports
plt.figure(figsize=(12,6))
sns.boxplot(data=df, x='Destination Port', y='Severity Level')
plt.title('Severity Levels vs Destination Ports')
plt.show()


plt.figure(figsize=(10,6))
sns.boxplot(data=df, x='Traffic Type', y='Packet Length')
plt.title('Packet Length Distribution by Traffic Type')
plt.show()


# Analyze source and destination IP address distribution (example)
df["Source IP Address"].value_counts().head(10).plot(kind="bar")  # Top 10 source IPs
plt.title("Top 10 Source IPs")
plt.show()


# Convert 'Timestamp' to datetime
df['Timestamp'] = pd.to_datetime(df['Timestamp'])

# Extract additional time-based features
df['Hour'] = df['Timestamp'].dt.hour
df['Day'] = df['Timestamp'].dt.day
df['Month'] = df['Timestamp'].dt.month
df['DayOfWeek'] = df['Timestamp'].dt.dayofweek
df['year'] = df['Timestamp'].dt.year


# Plot : Distribution of Attack Types
plt.figure(figsize=(10, 6))
sns.countplot(data=df, x='Attack Type', order=df['Attack Type'].value_counts().index)
plt.title('Distribution of Attack Types')
plt.xlabel('Attack Type')
plt.ylabel('Count')
plt.xticks(rotation=45)
plt.show()


# Plot 2: Distribution of Actions Taken
plt.figure(figsize=(10, 6))
sns.countplot(data=df, x='Action Taken', order=df['Action Taken'].value_counts().index)
plt.title('Distribution of Actions Taken')
plt.xlabel('Action Taken')
plt.ylabel('Count')
plt.xticks(rotation=45)
plt.show()


# Plot 3: Time Series of Attack Types
plt.figure(figsize=(14, 8))
df.set_index('Timestamp').resample('D')['Attack Type'].count().plot()
plt.title('Daily Frequency of Attack Types')
plt.xlabel('Date')
plt.ylabel('Number of Attacks')
plt.show()


# Plot 4: Heatmap of Attacks by Day of the Week and Hour
pivot_table = df.pivot_table(index='DayOfWeek', columns='Hour', values='Attack Type', aggfunc='count')
plt.figure(figsize=(14, 6))
sns.heatmap(pivot_table, cmap='coolwarm', annot=True, fmt='d')
plt.title('Heatmap of Attacks by Day of the Week and Hour')
plt.xlabel('Hour of the Day')
plt.ylabel('Day of the Week')
plt.yticks(ticks=[0, 1, 2, 3, 4, 5, 6], labels=['Mon', 'Tue', 'Wed', 'Thu', 'Fri', 'Sat', 'Sun'], rotation=0)
plt.show()


# Plot 5: Pairplot for numerical relationships (hour, day, month) with attack type and action taken
df_encoded = pd.get_dummies(df, columns=['Attack Type', 'Action Taken'])
sns.pairplot(df_encoded[['Hour', 'Day', 'Month'] + list(df_encoded.columns[df_encoded.columns.str.startswith('Attack Type')]) + list(df_encoded.columns[df_encoded.columns.str.startswith('action taken')])])
plt.suptitle('Pairplot of Numerical Features and Encoded Attack Types/Actions Taken', y=1.02)
plt.show()


plt.figure(figsize=(10, 8))
sns.countplot(data=df, x = 'Attack Type', hue = 'Malware Indicators')
plt.show()


# Top N used ports
top_n_ports = 5
top_ports = df['Source Port'].value_counts().head(top_n_ports)

# Print top used ports
print(f"Top {top_n_ports} Used Ports:")
print(top_ports)


import pandas as pd
import numpy as np
import matplotlib.pyplot as plt
import seaborn as sns
from statsmodels.tsa.seasonal import seasonal_decompose
from statsmodels.tsa.arima.model import ARIMA

# Sample data generation (replace with your data import)
# df = pd.read_csv('cybersecurity_attacks.csv')
df['Timestamp'] = pd.to_datetime(df['Timestamp'])

# 1. Event-Based Analysis
# Assuming we are analyzing around New Year's Day
# df['Event'] = np.where(df['Timestamp'].dt.month == 1, 'New Year', 'Other')
# New Year period could be from Dec 30 to Jan 2
df['Event'] = np.where((df['Timestamp'].dt.month == 12) & (df['Timestamp'].dt.day >= 30) |
                       (df['Timestamp'].dt.month == 1) & (df['Timestamp'].dt.day <= 2), 
                       'New Year Period', 'Other')
attacks_event_based = df.groupby('Event').size()

# 2. Anomaly Detection
attacks_per_day = df.resample('D', on='Timestamp').size()
rolling_mean = attacks_per_day.rolling(window=7).mean()
rolling_std = attacks_per_day.rolling(window=7).std()
anomalies = attacks_per_day[(attacks_per_day - rolling_mean) > (2 * rolling_std)]

# 3. Time Series Forecasting
model = ARIMA(attacks_per_day, order=(5,1,0))
model_fit = model.fit()
forecast = model_fit.forecast(steps=30)

# 4. Heatmaps
# Heatmap of attacks by hour and day of the week
df['DayOfWeek'] = df['Timestamp'].dt.dayofweek
df['Hour'] = df['Timestamp'].dt.hour
attacks_heatmap = df.pivot_table(index='DayOfWeek', columns='Hour', aggfunc='size', fill_value=0)

plt.figure(figsize=(12, 6))
sns.heatmap(attacks_heatmap, cmap='YlGnBu', annot=True, fmt="d")
plt.title('Heatmap of Attacks by Hour and Day of the Week')
plt.xlabel('Hour of the Day')
plt.ylabel('Day of the Week')
plt.show()

# Visualization for the Event-Based Analysis
plt.figure(figsize=(8, 4))
attacks_event_based.plot(kind='bar', color=['blue', 'green'])
plt.title('Number of Attacks Around New Year Period')
plt.xlabel('Event')
plt.ylabel('Number of Attacks')
plt.xticks(rotation=0)
plt.show()

# Visualization for Anomaly Detection
plt.figure(figsize=(10, 6))
plt.plot(attacks_per_day, label='Daily Attacks')
plt.plot(rolling_mean, label='7-day Rolling Mean', color='red')
plt.scatter(anomalies.index, anomalies, color='orange', label='Anomalies')
plt.title('Daily Attacks with Anomalies Detected')
plt.xlabel('Date')
plt.ylabel('Number of Attacks')
plt.legend()
plt.show()

# Visualization for Time Series Forecasting
plt.figure(figsize=(10, 6))
plt.plot(attacks_per_day, label='Observed')
plt.plot(forecast, label='Forecast', color='red')
plt.title('Time Series Forecasting of Attack Counts')
plt.xlabel('Date')
plt.ylabel('Number of Attacks')
plt.legend()
plt.show()


# Count the frequency of source and destination ports
source_port_counts = df['Source Port'].value_counts().head(10)
dest_port_counts = df['Destination Port'].value_counts().head(10)

# Plotting the top source and destination ports
plt.figure(figsize=(10, 5))
plt.subplot(1, 2, 1)
source_port_counts.plot(kind='bar', color='skyblue')
plt.title('Top 10 Source Ports')
plt.xlabel('Port')
plt.ylabel('Frequency')

plt.subplot(1, 2, 2)
dest_port_counts.plot(kind='bar', color='orange')
plt.title('Top 10 Destination Ports')
plt.xlabel('Port')
plt.ylabel('Frequency')

plt.tight_layout()
plt.show()


# Example: Finding unusual high port usage
unusual_ports = df[(df['Source Port'] > 1024) & (df['Destination Port'] > 1024)]






