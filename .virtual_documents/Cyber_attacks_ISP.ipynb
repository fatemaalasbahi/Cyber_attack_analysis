





# Import the necessary library
import pandas as pd
import numpy as np
import matplotlib.pyplot as plt
import re
import seaborn as sns
import plotly.express as px


# load the data
df = pd.read_csv("cybersecurity_attacks.csv")


df.head().T


df.info()


# Check if there is a null val
df.isna().sum()








#Check for NaN values in 'Alerts/Warnings' column and replace it with 'No Alert Triggered'
df['Alerts/Warnings'] = df['Alerts/Warnings'].apply(lambda x: 'No Alert Triggered' if pd.isna(x) else x)


#Check for NaN values in 'Malware Indicators' column and replace it with 'No Detection'
df['Malware Indicators'] = df['Malware Indicators'].apply(lambda x: 'No Detection' if pd.isna(x) else x)


#Check for NaN values in 'Proxy Information' column and replace it with 'No proxy'
df['Proxy Information'] = df['Proxy Information'].apply(lambda x: 'No proxy' if pd.isna(x) else x)


#Check for NaN values in 'Firewall Logs' column and replace it with 'No Data'
df['Firewall Logs'] = df['Firewall Logs'].apply(lambda x: 'No Data' if pd.isna(x) else x)


#Check for NaN values in 'IDS/IPS Alerts' column and replace it with 'No Data'
df['IDS/IPS Alerts'] = df['IDS/IPS Alerts'].apply(lambda x: 'No Data' if pd.isna(x) else x)





df.isna().sum()


# used the value count function for understanding the distribution of devices used to access the system.
df['Device Information'].value_counts()





# Extract 'Device' and store it in 'Browser' column
df['Browser'] = df['Device Information'].str.split('/').str[0]


# Identify all the different device types found (from 'Browser' column)
df['Browser'].unique()





import re
# List of regular expressions to identify common operating systems and devices
patterns = [
    r'Windows',
    r'Linux',
    r'Android',
    r'iPad',
    r'iPod',
    r'iPhone',
    r'Macintosh',
]

def extract_device_or_os(user_agent):
    for pattern in patterns:
        match = re.search(pattern, user_agent, re.I)  # re.I makes the search case-insensitive
        if match:
            return match.group()
    return 'Unknown'  


# Extract device or OS
df['Device/OS'] = df['Device Information'].apply(extract_device_or_os)


df = df.drop('Device Information', axis = 1)


df['Browser'].value_counts()


# Group by 'Device/OS' and count the number of attacks
device_counts = df['Device/OS'].value_counts()

# Convert the result to a DataFrame for better readability
device_counts_df = pd.DataFrame(device_counts).reset_index()
device_counts_df.columns = ['Device/OS', 'Count of Attacks']

# Display the top 10 devices/OS by number of attacks
top_devices = device_counts_df.head(10)
print(top_devices)


# Plotting the top devices/OS 
plt.figure(figsize=(10, 6))
sns.barplot(x='Count of Attacks', y='Device/OS', hue='Device/OS', data=top_devices, palette='magma')
plt.xlabel('Count of Attacks')
plt.ylabel('Device/OS')
plt.title('Top 10 Devices/OS Targeted by Attacks')
plt.tight_layout()
plt.show()


fig = px.bar(top_devices, x='Count of Attacks', y='Device/OS', color='Device/OS', title='Top 10 Devices/OS Targeted by Attacks', orientation='h')
fig.show()





import matplotlib.pyplot as plt

# Assuming 'top_devices' is a DataFrame with columns 'Device/OS' and 'Count of Attacks'

plt.figure(figsize=(8, 8))  # Adjust figure size for pie chart

# Sort data by attack count (descending) for better pie chart presentation
top_devices_sorted = top_devices.sort_values(by='Count of Attacks', ascending=False)

# Create the pie chart
plt.pie(top_devices_sorted['Count of Attacks'], labels=top_devices_sorted['Device/OS'], autopct="%1.1f%%")  # Display percentages with one decimal place
plt.title('Top 10 Devices/OS Targeted by Attacks (Percentage)')

# Add a legend
plt.legend(title='Device/OS')

plt.tight_layout()
plt.show()


import plotly.express as px

# Assuming you have a column 'count' in your DataFrame representing the count of each device/OS
plt = px.pie(device_counts_df, names='Device/OS', values='Count of Attacks', title='Platform Distribution',
             color_discrete_sequence=px.colors.qualitative.Pastel1
             )
plt.show()


# Calculate attack counts
attack_counts = df['Attack Type'].value_counts().reset_index()
attack_counts.columns = ['Attack Type', 'Count']

# Display the count of the attacks and the attack type
attack_type = attack_counts.head()
print(attack_type)






# Calculate attack counts
attack_counts = df['Attack Type'].value_counts().reset_index()
attack_counts.columns = ['Attack Type', 'Count']

# Create the interactive bar chart with a chosen color palette
fig = px.bar(attack_counts, x='Attack Type', y='Count',
             labels={'Count': 'Number of Attacks'},
             title='Distribution of Attack Types',
             color='Attack Type',
             color_discrete_sequence=px.colors.qualitative.Antique)  # Replace with your preferred palette
fig.show()


# Count the occurrences of each protocol
protocol_counts = df['Protocol'].value_counts().reset_index()
protocol_counts.columns = ['Protocol', 'Count']

# Display the count of the attacks and the attack type
protocol_type = protocol_counts.head()
print(protocol_type)





# Data for the pie chart
labels = ['UDP', 'ICMP', 'TCP']
sizes = df['Protocol'].value_counts()  # Proportional sizes of each category
explode = (0.1, 0, 0)  # Explode the 1st slice (UDP) for emphasis

# Set a custom color palette
colors = sns.color_palette('pastel')[0:len(labels)]

# Set seaborn style for a creative theme
sns.set(style="whitegrid")

# Create a pie chart
plt.figure(figsize=(8, 8))
plt.pie(sizes, labels=labels, colors=colors, explode=explode, autopct='%1.1f%%', startangle=90)

# Equal aspect ratio ensures that pie is drawn as a circle.
plt.axis('equal')
plt.title('Distribution of Network Traffic Protocols', fontsize=16, fontweight='bold')

# Display the pie chart
plt.show()


# Count the occurrences of each protocol
protocol_counts = df['Protocol'].value_counts().reset_index()
protocol_counts.columns = ['Protocol', 'Count']

# Create the interactive pie chart
fig = px.pie(protocol_counts, values='Count', names='Protocol', title='Distribution of Network Traffic Protocols',
             color_discrete_sequence=px.colors.qualitative.Pastel2)
fig.show()
