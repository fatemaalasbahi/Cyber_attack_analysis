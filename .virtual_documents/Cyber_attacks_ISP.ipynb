


# Import the necessary library
import pandas as pd
import numpy as np


# load the data
df = pd.read_csv("cybersecurity_attacks.csv")


df.head().T


df.info()


# Check if there is a null val
df.isna().sum()








#Check for NaN values in 'Alerts/Warnings' column and replace it with 'No Alert Triggered'
df['Alerts/Warnings'] = df['Alerts/Warnings'].apply(lambda x: 'No Alert Triggered' if pd.isna(x) else x)


#Check for NaN values in 'Malware Indicators' column and replace it with 'No Detection'
df['Malware Indicators'] = df['Malware Indicators'].apply(lambda x: 'No Detection' if pd.isna(x) else x)


#Check for NaN values in 'Proxy Information' column and replace it with 'No proxy'
df['Proxy Information'] = df['Proxy Information'].apply(lambda x: 'No proxy' if pd.isna(x) else x)


#Check for NaN values in 'Firewall Logs' column and replace it with 'No Data'
df['Firewall Logs'] = df['Firewall Logs'].apply(lambda x: 'No Data' if pd.isna(x) else x)


#Check for NaN values in 'IDS/IPS Alerts' column and replace it with 'No Data'
df['IDS/IPS Alerts'] = df['IDS/IPS Alerts'].apply(lambda x: 'No Data' if pd.isna(x) else x)





df.isna().sum()


# used the value count function for understanding the distribution of devices used to access the system.
df['Device Information'].value_counts()





# Extract 'Device' and store it in 'Browser' column
df['Browser'] = df['Device Information'].str.split('/').str[0]


# Identify all the different device types found (from 'Browser' column)
df['Browser'].unique()





import re
# List of regular expressions to identify common operating systems and devices
patterns = [
    r'Windows',
    r'Linux',
    r'Android',
    r'iPad',
    r'iPod',
    r'iPhone',
    r'Macintosh',
]

def extract_device_or_os(user_agent):
    for pattern in patterns:
        match = re.search(pattern, user_agent, re.I)  # re.I makes the search case-insensitive
        if match:
            return match.group()
    return 'Unknown'  


# Extract device or OS
df['Device/OS'] = df['Device Information'].apply(extract_device_or_os)


df = df.drop('Device Information', axis = 1)


# Group by 'Device/OS' and count the number of attacks
device_counts = df['Device/OS'].value_counts()

# Convert the result to a DataFrame for better readability
device_counts_df = pd.DataFrame(device_counts).reset_index()
device_counts_df.columns = ['Device/OS', 'Count of Attacks']

# Display the top 10 devices/OS by number of attacks
top_devices = device_counts_df.head(10)
print(top_devices)


# Plotting the top devices/OS 
plt.figure(figsize=(10, 6))
sns.barplot(x='Count of Attacks', y='Device/OS', hue='Device/OS', data=top_devices, palette='magma')
plt.xlabel('Count of Attacks')
plt.ylabel('Device/OS')
plt.title('Top 10 Devices/OS Targeted by Attacks')
plt.tight_layout()
plt.show()


import plotly.express as px
from geopy.geocoders import Nominatim
from geopy.extra.rate_limiter import RateLimiter


# Group by city and count incidents
city_incidents = df['Geo-location Data'].value_counts().reset_index()
city_incidents.columns = ['City', 'Incidents']

# Initialize geolocator
geolocator = Nominatim(user_agent="geo_locator")
geocode = RateLimiter(geolocator.geocode, min_delay_seconds=1)

# Geocode cities
city_incidents['Location'] = city_incidents['City'].apply(geocode)
city_incidents['Latitude'] = city_incidents['Location'].apply(lambda loc: loc.latitude if loc else None)
city_incidents['Longitude'] = city_incidents['Location'].apply(lambda loc: loc.longitude if loc else None)

# Drop cities where coordinates could not be found
city_incidents = city_incidents.dropna(subset=['Latitude', 'Longitude'])

# Create the interactive map
fig = px.scatter_geo(
    city_incidents,
    lat='Latitude',
    lon='Longitude',
    text='City',
    size='Incidents',
    size_max=15,
    title='Total Incidents in Each City',
    hover_name='City',
    hover_data={'Incidents': True, 'Latitude': False, 'Longitude': False},
    projection="natural earth"
)

# Show the interactive map
fig.show()


import matplotlib.pyplot as plt

# Assuming 'top_devices' is a DataFrame with columns 'Device/OS' and 'Count of Attacks'

plt.figure(figsize=(8, 8))  # Adjust figure size for pie chart

# Sort data by attack count (descending) for better pie chart presentation
top_devices_sorted = top_devices.sort_values(by='Count of Attacks', ascending=False)

# Create the pie chart
plt.pie(top_devices_sorted['Count of Attacks'], labels=top_devices_sorted['Device/OS'], autopct="%1.1f%%")  # Display percentages with one decimal place
plt.title('Top 10 Devices/OS Targeted by Attacks (Percentage)')

# Add a legend
plt.legend(title='Device/OS')

plt.tight_layout()
plt.show()






