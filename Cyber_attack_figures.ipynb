{
 "cells": [
  {
   "cell_type": "code",
   "execution_count": 1,
   "id": "b5c85ea4-a938-455d-9fc8-624ade5a60bd",
   "metadata": {},
   "outputs": [],
   "source": [
    "# Import the necessary library\n",
    "import pandas as pd\n",
    "import numpy as np\n",
    "import matplotlib.pyplot as plt\n",
    "import re\n",
    "import seaborn as sns\n",
    "import plotly.express as px"
   ]
  },
  {
   "cell_type": "code",
   "execution_count": 2,
   "id": "e34e91a5-8dec-4bc7-9521-258fdaba5403",
   "metadata": {},
   "outputs": [],
   "source": [
    "# load the data\n",
    "df = pd.read_csv(\"cybersecurity_attacks.csv\")"
   ]
  },
  {
   "cell_type": "code",
   "execution_count": null,
   "id": "eae850a9-a193-4574-ab69-e3b89eca64c0",
   "metadata": {},
   "outputs": [],
   "source": []
  }
 ],
 "metadata": {
  "kernelspec": {
   "display_name": "Python 3 (ipykernel)",
   "language": "python",
   "name": "python3"
  },
  "language_info": {
   "codemirror_mode": {
    "name": "ipython",
    "version": 3
   },
   "file_extension": ".py",
   "mimetype": "text/x-python",
   "name": "python",
   "nbconvert_exporter": "python",
   "pygments_lexer": "ipython3",
   "version": "3.11.7"
  }
 },
 "nbformat": 4,
 "nbformat_minor": 5
}
